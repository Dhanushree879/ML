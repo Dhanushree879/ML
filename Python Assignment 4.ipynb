{
 "cells": [
  {
   "cell_type": "markdown",
   "metadata": {},
   "source": [
    "1.1 Write a Python Program(with class concepts) to find the area of the triangle using the below formula. \n",
    " \n",
    "area = (s*(s-a)*(s-b)*(s-c)) ** 0.5 \n",
    " \n",
    "Function to take the length of the sides of triangle from user should be defined in the parent class and function to calculate the area should be defined in subclass. \n",
    " \n",
    " "
   ]
  },
  {
   "cell_type": "code",
   "execution_count": 2,
   "metadata": {},
   "outputs": [
    {
     "name": "stdout",
     "output_type": "stream",
     "text": [
      "Area of triangle: 4860.0\n"
     ]
    }
   ],
   "source": [
    "#parent class\n",
    "class length:\n",
    "    #func that take the lenght of sides of triangle\n",
    "    def __init__(self,a,b,c):\n",
    "        self.a=int(a)\n",
    "        self.b=int(b)\n",
    "        self.c=int(c)\n",
    "        \n",
    "#sub-class\n",
    "class area(length):\n",
    "    #func to calculate area\n",
    "    def __init__(self,s,*args):\n",
    "        super(area,self).__init__(*args)\n",
    "        self.s=s\n",
    "        areat=self.s*(self.s-self.a)*(self.s-self.b)*(self.s-self.c)*0.5\n",
    "        print(\"Area of triangle:\",areat)\n",
    "        \n",
    "#creating an obj for sub class\n",
    "obj=area(12,3,2,3)\n",
    "\n",
    "\n",
    "        "
   ]
  },
  {
   "cell_type": "markdown",
   "metadata": {},
   "source": [
    "1.2 Write a function filter_long_words() that takes a list of words and an integer n and returns the list of words that are longer than n. "
   ]
  },
  {
   "cell_type": "code",
   "execution_count": 4,
   "metadata": {},
   "outputs": [
    {
     "name": "stdout",
     "output_type": "stream",
     "text": [
      "Enter number of elements : 5\n",
      "Enter 5 elements\n",
      "python\n",
      "for\n",
      "data\n",
      "science\n",
      "thankyou\n",
      "Enter the value of n : 6\n",
      "The resultant list is: ['science', 'thankyou']\n"
     ]
    }
   ],
   "source": [
    "#func to return the list of words that are longer than n.\n",
    "def filter_long_words(lst,n):\n",
    "    l=[i for i in lst if len(i)>n]\n",
    "    return l\n",
    "\n",
    "lst = []  \n",
    "# number of elemetns as input \n",
    "k = int(input(\"Enter number of elements : \")) \n",
    "\n",
    "print(\"Enter {} elements\".format(k))  \n",
    "# iterating till the range \n",
    "for i in range(0, k): \n",
    "    ele = input() \n",
    "    lst.append(ele)\n",
    "n= int(input(\"Enter the value of n : \"))\n",
    "print(\"The resultant list is:\",filter_long_words(lst,n))"
   ]
  },
  {
   "cell_type": "markdown",
   "metadata": {},
   "source": [
    "2.1 Write a Python program using function concept that maps list of words into a list of integers representing the lengths of the corresponding words. \n",
    " \n",
    "Hint: If a list [ ab,cde,erty] is passed on to the python function output should come as [2,3,4] \n",
    " \n",
    "Here 2,3 and 4 are the lengths of the words in the list. "
   ]
  },
  {
   "cell_type": "code",
   "execution_count": 5,
   "metadata": {},
   "outputs": [
    {
     "name": "stdout",
     "output_type": "stream",
     "text": [
      "Enter number of elements : 5\n",
      "Enter 5 list of words:\n",
      "python\n",
      "for\n",
      "data\n",
      "science\n",
      "thankyou\n",
      "The list of integer is: [6, 3, 4, 7, 8]\n"
     ]
    }
   ],
   "source": [
    "#func to calculate length of words in the list\n",
    "def list_of_integers(lst):\n",
    "    return [len(i) for i in lst]\n",
    "\n",
    "lst = []  \n",
    "# number of elemetns as input \n",
    "k = int(input(\"Enter number of elements : \")) \n",
    "  \n",
    "# iterating till the range \n",
    "print(\"Enter {} list of words:\".format(k))\n",
    "for i in range(0, k): \n",
    "    ele = input() \n",
    "    lst.append(ele)\n",
    "print(\"The list of integer is:\",list_of_integers(lst))"
   ]
  },
  {
   "cell_type": "markdown",
   "metadata": {},
   "source": [
    "2.2 Write a Python function which takes a character (i.e. a string of length 1) and returns True if it is a vowel, False otherwise."
   ]
  },
  {
   "cell_type": "code",
   "execution_count": 6,
   "metadata": {},
   "outputs": [
    {
     "name": "stdout",
     "output_type": "stream",
     "text": [
      "Enter a character:a\n",
      "a is a vowel\n"
     ]
    }
   ],
   "source": [
    "#func to find whether the char is vowel or not\n",
    "def isvowel(char):\n",
    "    if char in ['a','e','i','o','u']:\n",
    "        return True\n",
    "    else:\n",
    "        return False\n",
    "#taking char input\n",
    "char=input(\"Enter a character:\")\n",
    "#checking whether vowel or not\n",
    "if isvowel(char):\n",
    "    print(\"{} is a vowel\".format(char))\n",
    "else:\n",
    "    print(\"{} is not a vowel\".format(char))"
   ]
  },
  {
   "cell_type": "code",
   "execution_count": null,
   "metadata": {},
   "outputs": [],
   "source": []
  }
 ],
 "metadata": {
  "kernelspec": {
   "display_name": "Python 3",
   "language": "python",
   "name": "python3"
  },
  "language_info": {
   "codemirror_mode": {
    "name": "ipython",
    "version": 3
   },
   "file_extension": ".py",
   "mimetype": "text/x-python",
   "name": "python",
   "nbconvert_exporter": "python",
   "pygments_lexer": "ipython3",
   "version": "3.7.6"
  }
 },
 "nbformat": 4,
 "nbformat_minor": 4
}
